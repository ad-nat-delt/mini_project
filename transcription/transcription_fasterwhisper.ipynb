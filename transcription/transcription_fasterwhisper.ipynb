{
 "cells": [
  {
   "cell_type": "code",
   "execution_count": 1,
   "metadata": {},
   "outputs": [
    {
     "name": "stderr",
     "output_type": "stream",
     "text": [
      "d:\\downloadfiles\\python\\Lib\\site-packages\\tqdm\\auto.py:22: TqdmWarning: IProgress not found. Please update jupyter and ipywidgets. See https://ipywidgets.readthedocs.io/en/stable/user_install.html\n",
      "  from .autonotebook import tqdm as notebook_tqdm\n"
     ]
    }
   ],
   "source": [
    "from faster_whisper import WhisperModel"
   ]
  },
  {
   "cell_type": "code",
   "execution_count": 2,
   "metadata": {},
   "outputs": [
    {
     "name": "stderr",
     "output_type": "stream",
     "text": [
      "Estimating duration from bitrate, this may be inaccurate\n"
     ]
    },
    {
     "name": "stdout",
     "output_type": "stream",
     "text": [
      "Detected language 'en' with probability 0.999874\n",
      "[0.00s -> 6.14s]  Smoke from hundreds of wildfires in Canada is triggering air quality alerts throughout the U.S.\n",
      "[6.54s -> 10.82s]  Skylines from Maine to Maryland to Minnesota are gray and smoggy.\n",
      "[11.24s -> 15.56s]  And in some places, the air quality warnings include the warning to stay inside.\n",
      "[16.04s -> 19.72s]  We wanted to better understand what's happening here and why, so we called Peter DiCarlo,\n",
      "[20.14s -> 25.26s]  an associate professor in the Department of Environmental Health and Engineering at Johns Hopkins University.\n",
      "[25.66s -> 26.32s]  Good morning, Professor.\n",
      "[27.56s -> 28.56s]  Good morning.\n",
      "[28.56s -> 37.12s]  So what is it about the conditions right now that have caused this round of wildfires to affect so many people so far away?\n",
      "[38.88s -> 40.26s]  Well, there's a couple of things.\n",
      "[40.56s -> 45.66s]  The season has been pretty dry already, and then the fact that we're getting hit in the U.S.\n",
      "[45.96s -> 50.56s]  is because there's a couple weather systems that are essentially channeling the smoke from those Canadian wildfires\n",
      "[50.56s -> 55.74s]  through Pennsylvania into the mid-Atlantic and the Northeast and kind of just dropping the smoke there.\n",
      "[56.08s -> 58.52s]  So what is it in this haze that makes it?\n",
      "[58.68s -> 60.54s]  It's harmful, and I'm assuming it is harmful.\n",
      "[62.42s -> 62.92s]  It is.\n",
      "[63.00s -> 63.26s]  It is.\n",
      "[63.36s -> 66.44s]  The levels outside right now in Baltimore are considered unhealthy,\n",
      "[66.96s -> 71.58s]  and most of that is due to what's called particulate matter, which are tiny particles,\n",
      "[72.24s -> 74.52s]  microscopic, smaller than the width of your hair,\n",
      "[75.02s -> 79.82s]  that can get into your lungs and impact your respiratory system, your cardiovascular system,\n",
      "[80.26s -> 82.40s]  and even your neurological, your brain.\n",
      "[83.14s -> 85.44s]  What makes this particularly harmful?\n",
      "[85.60s -> 87.40s]  Is it the volume of particulate?\n",
      "[88.06s -> 88.40s]  Is it something?\n",
      "[88.56s -> 90.30s]  You know, what is it exactly?\n",
      "[90.38s -> 92.02s]  Can you just drill down on that a little bit more?\n",
      "[93.40s -> 98.16s]  Yeah, so the concentration of particulate matter, I was looking at some of the monitors that we have,\n",
      "[98.26s -> 103.50s]  was reaching levels of what are, in science speak, 150 micrograms per meter cubed,\n",
      "[103.58s -> 107.06s]  which is more than 10 times what the annual average should be\n",
      "[107.06s -> 113.00s]  and about four times higher than what you're supposed to have on a 24-hour average.\n",
      "[113.12s -> 118.38s]  And so the concentrations of these particles in the air are just much, much, much higher\n",
      "[118.38s -> 123.22s]  than we typically see, and exposure to those high levels can lead to a host of health problems.\n",
      "[123.38s -> 124.82s]  And who is most vulnerable?\n",
      "[125.02s -> 128.58s]  I noticed that in New York City, for example, they're canceling outdoor activities,\n",
      "[128.58s -> 132.86s]  and so here it is in the early days of summer, and they have to keep all the kids inside.\n",
      "[132.96s -> 136.12s]  So who tends to be vulnerable in a situation like this?\n",
      "[137.44s -> 142.32s]  It's the youngest, so children, obviously, whose bodies are still developing,\n",
      "[142.56s -> 145.22s]  the elderly, who are, you know, their bodies are more in decline,\n",
      "[145.32s -> 148.06s]  and they're more susceptible to the health impacts of breathing,\n",
      "[148.06s -> 152.62s]  the poor air quality, and then people who have pre-existing health conditions,\n",
      "[152.70s -> 154.44s]  people with respiratory conditions or heart conditions,\n",
      "[154.52s -> 156.46s]  can be triggered by high levels of air pollution.\n",
      "[157.28s -> 158.58s]  Could this get worse?\n",
      "[162.08s -> 163.06s]  That's a good question.\n",
      "[163.38s -> 166.90s]  I mean, I think if, in some areas it's much worse than others,\n",
      "[167.00s -> 169.76s]  and it just depends on kind of where the smoke is concentrated.\n",
      "[170.90s -> 173.82s]  I think New York has some of the higher concentrations right now,\n",
      "[173.88s -> 176.58s]  but that's going to change as that air moves away from the New York area.\n",
      "[176.96s -> 178.04s]  But over the course of the next year,\n",
      "[178.06s -> 181.80s]  over the next few days, we will see different areas being hit at different times\n",
      "[181.80s -> 183.20s]  with the highest concentrations.\n",
      "[184.04s -> 188.94s]  Unless more fires start burning, I don't expect the concentrations to go up too much higher.\n",
      "[189.24s -> 191.08s]  I was going to ask you, and you started to answer this,\n",
      "[191.16s -> 193.34s]  but how much longer could this last?\n",
      "[193.44s -> 196.18s]  And forgive me if I'm asking you to speculate, but what do you think?\n",
      "[198.06s -> 200.34s]  Well, I think the fires are going to burn for a little bit longer,\n",
      "[200.50s -> 203.68s]  but the key for us in the U.S. is the weather system changing.\n",
      "[203.68s -> 207.82s]  And so right now, it's kind of the weather systems that are pulling that air into our,\n",
      "[208.06s -> 210.94s]  mid-Atlantic and northeast region.\n",
      "[211.12s -> 215.96s]  As those weather systems change and shift, we'll see that smoke going elsewhere\n",
      "[215.96s -> 219.06s]  and not impact us in this region as much.\n",
      "[219.20s -> 220.98s]  And so I think that's going to be the defining factor.\n",
      "[221.02s -> 225.02s]  And I think the next couple of days, we're going to see a shift in that weather pattern\n",
      "[225.02s -> 227.36s]  and start to push the smoke away from where we are.\n",
      "[227.94s -> 231.96s]  And finally, with the impacts of climate change, we are seeing more wildfires.\n",
      "[232.16s -> 237.96s]  Will we be seeing more of these kinds of wide-ranging air quality conflicts?\n",
      "[238.06s -> 239.60s]  Will we be seeing consequences or circumstances?\n",
      "[241.20s -> 246.00s]  I mean, that is one of the predictions for climate change looking into the future.\n",
      "[246.42s -> 251.08s]  The fire season is starting earlier and lasting longer, and we're seeing more frequent fires.\n",
      "[251.30s -> 255.30s]  So, yeah, this is probably something that we'll be seeing more frequently.\n",
      "[255.70s -> 257.94s]  This tends to be much more of an issue in the western U.S.,\n",
      "[257.94s -> 261.36s]  so the eastern U.S. getting hit right now is a little bit new.\n",
      "[262.04s -> 264.64s]  But, yeah, I think with climate change moving forward,\n",
      "[264.80s -> 267.26s]  this is something that is going to happen more frequently.\n",
      "[268.06s -> 272.50s]  That's Peter DiCarlo, associate professor in the Department of Environmental Health and Engineering\n",
      "[272.50s -> 274.72s]  at Johns Hopkins University.\n",
      "[274.82s -> 278.10s]  Professor DiCarlo, thanks so much for joining us and sharing this expertise with us.\n",
      "[279.36s -> 280.34s]  Thank you for having me.\n",
      "[282.20s -> 282.30s]  Thank you.\n"
     ]
    }
   ],
   "source": [
    "\n",
    "model_size = \"large-v3\"\n",
    "\n",
    "# Run on GPU with FP16\n",
    "# model = WhisperModel(model_size, device=\"cuda\", compute_type=\"float16\")\n",
    "\n",
    "# or run on GPU with INT8\n",
    "# model = WhisperModel(model_size, device=\"cuda\", compute_type=\"int8_float16\")\n",
    "# or run on CPU with INT8\n",
    "model = WhisperModel(model_size, device=\"cpu\", compute_type=\"int8\")\n",
    "\n",
    "segments, info = model.transcribe(\"20230607_me_canadian_wildfires(1).mp3\", beam_size=5)\n",
    "\n",
    "print(\"Detected language '%s' with probability %f\" % (info.language, info.language_probability))\n",
    "\n",
    "for segment in segments:\n",
    "    print(\"[%.2fs -> %.2fs] %s\" % (segment.start, segment.end, segment.text))"
   ]
  }
 ],
 "metadata": {
  "kernelspec": {
   "display_name": "Python 3",
   "language": "python",
   "name": "python3"
  },
  "language_info": {
   "codemirror_mode": {
    "name": "ipython",
    "version": 3
   },
   "file_extension": ".py",
   "mimetype": "text/x-python",
   "name": "python",
   "nbconvert_exporter": "python",
   "pygments_lexer": "ipython3",
   "version": "3.11.0"
  }
 },
 "nbformat": 4,
 "nbformat_minor": 2
}
